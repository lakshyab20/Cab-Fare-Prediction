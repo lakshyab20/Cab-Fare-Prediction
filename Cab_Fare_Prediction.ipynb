{
 "cells": [
  {
   "cell_type": "code",
   "execution_count": 2,
   "metadata": {},
   "outputs": [],
   "source": [
    "import pandas as pd\n",
    "import numpy as np\n",
    "import os\n",
    "import matplotlib.pyplot as plt\n",
    "import seaborn as sns\n",
    "import datetime\n",
    "import scipy.stats\n",
    "import statsmodels.api as sm\n",
    "from sklearn.model_selection import train_test_split\n",
    "from sklearn import tree\n",
    "from sklearn.ensemble import RandomForestRegressor\n",
    "from sklearn.linear_model import Lasso\n",
    "from sklearn.feature_selection import SelectFromModel\n",
    "from sklearn.tree import DecisionTreeRegressor"
   ]
  },
  {
   "cell_type": "code",
   "execution_count": 3,
   "metadata": {},
   "outputs": [],
   "source": [
    "train=pd.read_csv('train_cab.csv',sep=',',dtype={'fare_amount':np.float},na_values={'fare_amount':'430-'})\n",
    "test=pd.read_csv('test.csv')"
   ]
  },
  {
   "cell_type": "code",
   "execution_count": 4,
   "metadata": {},
   "outputs": [
    {
     "name": "stdout",
     "output_type": "stream",
     "text": [
      "<class 'pandas.core.frame.DataFrame'>\n",
      "RangeIndex: 16067 entries, 0 to 16066\n",
      "Data columns (total 7 columns):\n",
      " #   Column             Non-Null Count  Dtype  \n",
      "---  ------             --------------  -----  \n",
      " 0   fare_amount        16042 non-null  float64\n",
      " 1   pickup_datetime    16067 non-null  object \n",
      " 2   pickup_longitude   16067 non-null  float64\n",
      " 3   pickup_latitude    16067 non-null  float64\n",
      " 4   dropoff_longitude  16067 non-null  float64\n",
      " 5   dropoff_latitude   16067 non-null  float64\n",
      " 6   passenger_count    16012 non-null  float64\n",
      "dtypes: float64(6), object(1)\n",
      "memory usage: 878.8+ KB\n"
     ]
    }
   ],
   "source": [
    "train.info()"
   ]
  },
  {
   "cell_type": "code",
   "execution_count": 5,
   "metadata": {},
   "outputs": [
    {
     "name": "stdout",
     "output_type": "stream",
     "text": [
      "<class 'pandas.core.frame.DataFrame'>\n",
      "RangeIndex: 9914 entries, 0 to 9913\n",
      "Data columns (total 6 columns):\n",
      " #   Column             Non-Null Count  Dtype  \n",
      "---  ------             --------------  -----  \n",
      " 0   pickup_datetime    9914 non-null   object \n",
      " 1   pickup_longitude   9914 non-null   float64\n",
      " 2   pickup_latitude    9914 non-null   float64\n",
      " 3   dropoff_longitude  9914 non-null   float64\n",
      " 4   dropoff_latitude   9914 non-null   float64\n",
      " 5   passenger_count    9914 non-null   int64  \n",
      "dtypes: float64(4), int64(1), object(1)\n",
      "memory usage: 464.8+ KB\n"
     ]
    }
   ],
   "source": [
    "test.info()"
   ]
  },
  {
   "cell_type": "code",
   "execution_count": 6,
   "metadata": {},
   "outputs": [],
   "source": [
    "# Converting the pickup_datetime from object to datetime \n",
    "train['pickup_datetime']=pd.to_datetime(train['pickup_datetime'],errors='coerce')\n",
    "test['pickup_datetime']=pd.to_datetime(test['pickup_datetime'],errors='coerce')"
   ]
  },
  {
   "cell_type": "code",
   "execution_count": 7,
   "metadata": {},
   "outputs": [
    {
     "name": "stdout",
     "output_type": "stream",
     "text": [
      "<class 'pandas.core.frame.DataFrame'>\n",
      "RangeIndex: 9914 entries, 0 to 9913\n",
      "Data columns (total 6 columns):\n",
      " #   Column             Non-Null Count  Dtype              \n",
      "---  ------             --------------  -----              \n",
      " 0   pickup_datetime    9914 non-null   datetime64[ns, UTC]\n",
      " 1   pickup_longitude   9914 non-null   float64            \n",
      " 2   pickup_latitude    9914 non-null   float64            \n",
      " 3   dropoff_longitude  9914 non-null   float64            \n",
      " 4   dropoff_latitude   9914 non-null   float64            \n",
      " 5   passenger_count    9914 non-null   int64              \n",
      "dtypes: datetime64[ns, UTC](1), float64(4), int64(1)\n",
      "memory usage: 464.8 KB\n"
     ]
    }
   ],
   "source": [
    "test.info()"
   ]
  },
  {
   "cell_type": "code",
   "execution_count": 8,
   "metadata": {},
   "outputs": [
    {
     "name": "stdout",
     "output_type": "stream",
     "text": [
      "<class 'pandas.core.frame.DataFrame'>\n",
      "RangeIndex: 16067 entries, 0 to 16066\n",
      "Data columns (total 7 columns):\n",
      " #   Column             Non-Null Count  Dtype              \n",
      "---  ------             --------------  -----              \n",
      " 0   fare_amount        16042 non-null  float64            \n",
      " 1   pickup_datetime    16066 non-null  datetime64[ns, UTC]\n",
      " 2   pickup_longitude   16067 non-null  float64            \n",
      " 3   pickup_latitude    16067 non-null  float64            \n",
      " 4   dropoff_longitude  16067 non-null  float64            \n",
      " 5   dropoff_latitude   16067 non-null  float64            \n",
      " 6   passenger_count    16012 non-null  float64            \n",
      "dtypes: datetime64[ns, UTC](1), float64(6)\n",
      "memory usage: 878.8 KB\n"
     ]
    }
   ],
   "source": [
    "train.info()"
   ]
  },
  {
   "cell_type": "code",
   "execution_count": 9,
   "metadata": {},
   "outputs": [
    {
     "data": {
      "text/plain": [
       "((16067, 7), (9914, 6))"
      ]
     },
     "execution_count": 9,
     "metadata": {},
     "output_type": "execute_result"
    }
   ],
   "source": [
    "train.shape,test.shape"
   ]
  },
  {
   "cell_type": "code",
   "execution_count": 10,
   "metadata": {},
   "outputs": [
    {
     "data": {
      "text/html": [
       "<div>\n",
       "<style scoped>\n",
       "    .dataframe tbody tr th:only-of-type {\n",
       "        vertical-align: middle;\n",
       "    }\n",
       "\n",
       "    .dataframe tbody tr th {\n",
       "        vertical-align: top;\n",
       "    }\n",
       "\n",
       "    .dataframe thead th {\n",
       "        text-align: right;\n",
       "    }\n",
       "</style>\n",
       "<table border=\"1\" class=\"dataframe\">\n",
       "  <thead>\n",
       "    <tr style=\"text-align: right;\">\n",
       "      <th></th>\n",
       "      <th>fare_amount</th>\n",
       "      <th>pickup_datetime</th>\n",
       "      <th>pickup_longitude</th>\n",
       "      <th>pickup_latitude</th>\n",
       "      <th>dropoff_longitude</th>\n",
       "      <th>dropoff_latitude</th>\n",
       "      <th>passenger_count</th>\n",
       "    </tr>\n",
       "  </thead>\n",
       "  <tbody>\n",
       "    <tr>\n",
       "      <th>0</th>\n",
       "      <td>4.5</td>\n",
       "      <td>2009-06-15 17:26:21+00:00</td>\n",
       "      <td>-73.844311</td>\n",
       "      <td>40.721319</td>\n",
       "      <td>-73.841610</td>\n",
       "      <td>40.712278</td>\n",
       "      <td>1.0</td>\n",
       "    </tr>\n",
       "    <tr>\n",
       "      <th>1</th>\n",
       "      <td>16.9</td>\n",
       "      <td>2010-01-05 16:52:16+00:00</td>\n",
       "      <td>-74.016048</td>\n",
       "      <td>40.711303</td>\n",
       "      <td>-73.979268</td>\n",
       "      <td>40.782004</td>\n",
       "      <td>1.0</td>\n",
       "    </tr>\n",
       "    <tr>\n",
       "      <th>2</th>\n",
       "      <td>5.7</td>\n",
       "      <td>2011-08-18 00:35:00+00:00</td>\n",
       "      <td>-73.982738</td>\n",
       "      <td>40.761270</td>\n",
       "      <td>-73.991242</td>\n",
       "      <td>40.750562</td>\n",
       "      <td>2.0</td>\n",
       "    </tr>\n",
       "    <tr>\n",
       "      <th>3</th>\n",
       "      <td>7.7</td>\n",
       "      <td>2012-04-21 04:30:42+00:00</td>\n",
       "      <td>-73.987130</td>\n",
       "      <td>40.733143</td>\n",
       "      <td>-73.991567</td>\n",
       "      <td>40.758092</td>\n",
       "      <td>1.0</td>\n",
       "    </tr>\n",
       "    <tr>\n",
       "      <th>4</th>\n",
       "      <td>5.3</td>\n",
       "      <td>2010-03-09 07:51:00+00:00</td>\n",
       "      <td>-73.968095</td>\n",
       "      <td>40.768008</td>\n",
       "      <td>-73.956655</td>\n",
       "      <td>40.783762</td>\n",
       "      <td>1.0</td>\n",
       "    </tr>\n",
       "  </tbody>\n",
       "</table>\n",
       "</div>"
      ],
      "text/plain": [
       "   fare_amount           pickup_datetime  pickup_longitude  pickup_latitude  \\\n",
       "0          4.5 2009-06-15 17:26:21+00:00        -73.844311        40.721319   \n",
       "1         16.9 2010-01-05 16:52:16+00:00        -74.016048        40.711303   \n",
       "2          5.7 2011-08-18 00:35:00+00:00        -73.982738        40.761270   \n",
       "3          7.7 2012-04-21 04:30:42+00:00        -73.987130        40.733143   \n",
       "4          5.3 2010-03-09 07:51:00+00:00        -73.968095        40.768008   \n",
       "\n",
       "   dropoff_longitude  dropoff_latitude  passenger_count  \n",
       "0         -73.841610         40.712278              1.0  \n",
       "1         -73.979268         40.782004              1.0  \n",
       "2         -73.991242         40.750562              2.0  \n",
       "3         -73.991567         40.758092              1.0  \n",
       "4         -73.956655         40.783762              1.0  "
      ]
     },
     "execution_count": 10,
     "metadata": {},
     "output_type": "execute_result"
    }
   ],
   "source": [
    "train.head()"
   ]
  },
  {
   "cell_type": "code",
   "execution_count": 11,
   "metadata": {},
   "outputs": [
    {
     "data": {
      "text/html": [
       "<div>\n",
       "<style scoped>\n",
       "    .dataframe tbody tr th:only-of-type {\n",
       "        vertical-align: middle;\n",
       "    }\n",
       "\n",
       "    .dataframe tbody tr th {\n",
       "        vertical-align: top;\n",
       "    }\n",
       "\n",
       "    .dataframe thead th {\n",
       "        text-align: right;\n",
       "    }\n",
       "</style>\n",
       "<table border=\"1\" class=\"dataframe\">\n",
       "  <thead>\n",
       "    <tr style=\"text-align: right;\">\n",
       "      <th></th>\n",
       "      <th>pickup_datetime</th>\n",
       "      <th>pickup_longitude</th>\n",
       "      <th>pickup_latitude</th>\n",
       "      <th>dropoff_longitude</th>\n",
       "      <th>dropoff_latitude</th>\n",
       "      <th>passenger_count</th>\n",
       "    </tr>\n",
       "  </thead>\n",
       "  <tbody>\n",
       "    <tr>\n",
       "      <th>0</th>\n",
       "      <td>2015-01-27 13:08:24+00:00</td>\n",
       "      <td>-73.973320</td>\n",
       "      <td>40.763805</td>\n",
       "      <td>-73.981430</td>\n",
       "      <td>40.743835</td>\n",
       "      <td>1</td>\n",
       "    </tr>\n",
       "    <tr>\n",
       "      <th>1</th>\n",
       "      <td>2015-01-27 13:08:24+00:00</td>\n",
       "      <td>-73.986862</td>\n",
       "      <td>40.719383</td>\n",
       "      <td>-73.998886</td>\n",
       "      <td>40.739201</td>\n",
       "      <td>1</td>\n",
       "    </tr>\n",
       "    <tr>\n",
       "      <th>2</th>\n",
       "      <td>2011-10-08 11:53:44+00:00</td>\n",
       "      <td>-73.982524</td>\n",
       "      <td>40.751260</td>\n",
       "      <td>-73.979654</td>\n",
       "      <td>40.746139</td>\n",
       "      <td>1</td>\n",
       "    </tr>\n",
       "    <tr>\n",
       "      <th>3</th>\n",
       "      <td>2012-12-01 21:12:12+00:00</td>\n",
       "      <td>-73.981160</td>\n",
       "      <td>40.767807</td>\n",
       "      <td>-73.990448</td>\n",
       "      <td>40.751635</td>\n",
       "      <td>1</td>\n",
       "    </tr>\n",
       "    <tr>\n",
       "      <th>4</th>\n",
       "      <td>2012-12-01 21:12:12+00:00</td>\n",
       "      <td>-73.966046</td>\n",
       "      <td>40.789775</td>\n",
       "      <td>-73.988565</td>\n",
       "      <td>40.744427</td>\n",
       "      <td>1</td>\n",
       "    </tr>\n",
       "  </tbody>\n",
       "</table>\n",
       "</div>"
      ],
      "text/plain": [
       "            pickup_datetime  pickup_longitude  pickup_latitude  \\\n",
       "0 2015-01-27 13:08:24+00:00        -73.973320        40.763805   \n",
       "1 2015-01-27 13:08:24+00:00        -73.986862        40.719383   \n",
       "2 2011-10-08 11:53:44+00:00        -73.982524        40.751260   \n",
       "3 2012-12-01 21:12:12+00:00        -73.981160        40.767807   \n",
       "4 2012-12-01 21:12:12+00:00        -73.966046        40.789775   \n",
       "\n",
       "   dropoff_longitude  dropoff_latitude  passenger_count  \n",
       "0         -73.981430         40.743835                1  \n",
       "1         -73.998886         40.739201                1  \n",
       "2         -73.979654         40.746139                1  \n",
       "3         -73.990448         40.751635                1  \n",
       "4         -73.988565         40.744427                1  "
      ]
     },
     "execution_count": 11,
     "metadata": {},
     "output_type": "execute_result"
    }
   ],
   "source": [
    "test.head()"
   ]
  },
  {
   "cell_type": "code",
   "execution_count": 12,
   "metadata": {},
   "outputs": [
    {
     "data": {
      "text/html": [
       "<div>\n",
       "<style scoped>\n",
       "    .dataframe tbody tr th:only-of-type {\n",
       "        vertical-align: middle;\n",
       "    }\n",
       "\n",
       "    .dataframe tbody tr th {\n",
       "        vertical-align: top;\n",
       "    }\n",
       "\n",
       "    .dataframe thead th {\n",
       "        text-align: right;\n",
       "    }\n",
       "</style>\n",
       "<table border=\"1\" class=\"dataframe\">\n",
       "  <thead>\n",
       "    <tr style=\"text-align: right;\">\n",
       "      <th></th>\n",
       "      <th>fare_amount</th>\n",
       "      <th>pickup_longitude</th>\n",
       "      <th>pickup_latitude</th>\n",
       "      <th>dropoff_longitude</th>\n",
       "      <th>dropoff_latitude</th>\n",
       "      <th>passenger_count</th>\n",
       "    </tr>\n",
       "  </thead>\n",
       "  <tbody>\n",
       "    <tr>\n",
       "      <th>count</th>\n",
       "      <td>16042.000000</td>\n",
       "      <td>16067.000000</td>\n",
       "      <td>16067.000000</td>\n",
       "      <td>16067.000000</td>\n",
       "      <td>16067.000000</td>\n",
       "      <td>16012.000000</td>\n",
       "    </tr>\n",
       "    <tr>\n",
       "      <th>mean</th>\n",
       "      <td>15.015004</td>\n",
       "      <td>-72.462787</td>\n",
       "      <td>39.914725</td>\n",
       "      <td>-72.462328</td>\n",
       "      <td>39.897906</td>\n",
       "      <td>2.625070</td>\n",
       "    </tr>\n",
       "    <tr>\n",
       "      <th>std</th>\n",
       "      <td>430.460945</td>\n",
       "      <td>10.578384</td>\n",
       "      <td>6.826587</td>\n",
       "      <td>10.575062</td>\n",
       "      <td>6.187087</td>\n",
       "      <td>60.844122</td>\n",
       "    </tr>\n",
       "    <tr>\n",
       "      <th>min</th>\n",
       "      <td>-3.000000</td>\n",
       "      <td>-74.438233</td>\n",
       "      <td>-74.006893</td>\n",
       "      <td>-74.429332</td>\n",
       "      <td>-74.006377</td>\n",
       "      <td>0.000000</td>\n",
       "    </tr>\n",
       "    <tr>\n",
       "      <th>25%</th>\n",
       "      <td>6.000000</td>\n",
       "      <td>-73.992156</td>\n",
       "      <td>40.734927</td>\n",
       "      <td>-73.991182</td>\n",
       "      <td>40.734651</td>\n",
       "      <td>1.000000</td>\n",
       "    </tr>\n",
       "    <tr>\n",
       "      <th>50%</th>\n",
       "      <td>8.500000</td>\n",
       "      <td>-73.981698</td>\n",
       "      <td>40.752603</td>\n",
       "      <td>-73.980172</td>\n",
       "      <td>40.753567</td>\n",
       "      <td>1.000000</td>\n",
       "    </tr>\n",
       "    <tr>\n",
       "      <th>75%</th>\n",
       "      <td>12.500000</td>\n",
       "      <td>-73.966838</td>\n",
       "      <td>40.767381</td>\n",
       "      <td>-73.963643</td>\n",
       "      <td>40.768013</td>\n",
       "      <td>2.000000</td>\n",
       "    </tr>\n",
       "    <tr>\n",
       "      <th>max</th>\n",
       "      <td>54343.000000</td>\n",
       "      <td>40.766125</td>\n",
       "      <td>401.083332</td>\n",
       "      <td>40.802437</td>\n",
       "      <td>41.366138</td>\n",
       "      <td>5345.000000</td>\n",
       "    </tr>\n",
       "  </tbody>\n",
       "</table>\n",
       "</div>"
      ],
      "text/plain": [
       "        fare_amount  pickup_longitude  pickup_latitude  dropoff_longitude  \\\n",
       "count  16042.000000      16067.000000     16067.000000       16067.000000   \n",
       "mean      15.015004        -72.462787        39.914725         -72.462328   \n",
       "std      430.460945         10.578384         6.826587          10.575062   \n",
       "min       -3.000000        -74.438233       -74.006893         -74.429332   \n",
       "25%        6.000000        -73.992156        40.734927         -73.991182   \n",
       "50%        8.500000        -73.981698        40.752603         -73.980172   \n",
       "75%       12.500000        -73.966838        40.767381         -73.963643   \n",
       "max    54343.000000         40.766125       401.083332          40.802437   \n",
       "\n",
       "       dropoff_latitude  passenger_count  \n",
       "count      16067.000000     16012.000000  \n",
       "mean          39.897906         2.625070  \n",
       "std            6.187087        60.844122  \n",
       "min          -74.006377         0.000000  \n",
       "25%           40.734651         1.000000  \n",
       "50%           40.753567         1.000000  \n",
       "75%           40.768013         2.000000  \n",
       "max           41.366138      5345.000000  "
      ]
     },
     "execution_count": 12,
     "metadata": {},
     "output_type": "execute_result"
    }
   ],
   "source": [
    "train.describe()"
   ]
  },
  {
   "cell_type": "code",
   "execution_count": 18,
   "metadata": {},
   "outputs": [
    {
     "data": {
      "text/html": [
       "<div>\n",
       "<style scoped>\n",
       "    .dataframe tbody tr th:only-of-type {\n",
       "        vertical-align: middle;\n",
       "    }\n",
       "\n",
       "    .dataframe tbody tr th {\n",
       "        vertical-align: top;\n",
       "    }\n",
       "\n",
       "    .dataframe thead th {\n",
       "        text-align: right;\n",
       "    }\n",
       "</style>\n",
       "<table border=\"1\" class=\"dataframe\">\n",
       "  <thead>\n",
       "    <tr style=\"text-align: right;\">\n",
       "      <th></th>\n",
       "      <th>pickup_longitude</th>\n",
       "      <th>pickup_latitude</th>\n",
       "      <th>dropoff_longitude</th>\n",
       "      <th>dropoff_latitude</th>\n",
       "      <th>passenger_count</th>\n",
       "    </tr>\n",
       "  </thead>\n",
       "  <tbody>\n",
       "    <tr>\n",
       "      <th>count</th>\n",
       "      <td>9914.000000</td>\n",
       "      <td>9914.000000</td>\n",
       "      <td>9914.000000</td>\n",
       "      <td>9914.000000</td>\n",
       "      <td>9914.000000</td>\n",
       "    </tr>\n",
       "    <tr>\n",
       "      <th>mean</th>\n",
       "      <td>-73.974722</td>\n",
       "      <td>40.751041</td>\n",
       "      <td>-73.973657</td>\n",
       "      <td>40.751743</td>\n",
       "      <td>1.671273</td>\n",
       "    </tr>\n",
       "    <tr>\n",
       "      <th>std</th>\n",
       "      <td>0.042774</td>\n",
       "      <td>0.033541</td>\n",
       "      <td>0.039072</td>\n",
       "      <td>0.035435</td>\n",
       "      <td>1.278747</td>\n",
       "    </tr>\n",
       "    <tr>\n",
       "      <th>min</th>\n",
       "      <td>-74.252193</td>\n",
       "      <td>40.573143</td>\n",
       "      <td>-74.263242</td>\n",
       "      <td>40.568973</td>\n",
       "      <td>1.000000</td>\n",
       "    </tr>\n",
       "    <tr>\n",
       "      <th>25%</th>\n",
       "      <td>-73.992501</td>\n",
       "      <td>40.736125</td>\n",
       "      <td>-73.991247</td>\n",
       "      <td>40.735254</td>\n",
       "      <td>1.000000</td>\n",
       "    </tr>\n",
       "    <tr>\n",
       "      <th>50%</th>\n",
       "      <td>-73.982326</td>\n",
       "      <td>40.753051</td>\n",
       "      <td>-73.980015</td>\n",
       "      <td>40.754065</td>\n",
       "      <td>1.000000</td>\n",
       "    </tr>\n",
       "    <tr>\n",
       "      <th>75%</th>\n",
       "      <td>-73.968013</td>\n",
       "      <td>40.767113</td>\n",
       "      <td>-73.964059</td>\n",
       "      <td>40.768757</td>\n",
       "      <td>2.000000</td>\n",
       "    </tr>\n",
       "    <tr>\n",
       "      <th>max</th>\n",
       "      <td>-72.986532</td>\n",
       "      <td>41.709555</td>\n",
       "      <td>-72.990963</td>\n",
       "      <td>41.696683</td>\n",
       "      <td>6.000000</td>\n",
       "    </tr>\n",
       "  </tbody>\n",
       "</table>\n",
       "</div>"
      ],
      "text/plain": [
       "       pickup_longitude  pickup_latitude  dropoff_longitude  dropoff_latitude  \\\n",
       "count       9914.000000      9914.000000        9914.000000       9914.000000   \n",
       "mean         -73.974722        40.751041         -73.973657         40.751743   \n",
       "std            0.042774         0.033541           0.039072          0.035435   \n",
       "min          -74.252193        40.573143         -74.263242         40.568973   \n",
       "25%          -73.992501        40.736125         -73.991247         40.735254   \n",
       "50%          -73.982326        40.753051         -73.980015         40.754065   \n",
       "75%          -73.968013        40.767113         -73.964059         40.768757   \n",
       "max          -72.986532        41.709555         -72.990963         41.696683   \n",
       "\n",
       "       passenger_count  \n",
       "count      9914.000000  \n",
       "mean          1.671273  \n",
       "std           1.278747  \n",
       "min           1.000000  \n",
       "25%           1.000000  \n",
       "50%           1.000000  \n",
       "75%           2.000000  \n",
       "max           6.000000  "
      ]
     },
     "execution_count": 18,
     "metadata": {},
     "output_type": "execute_result"
    }
   ],
   "source": [
    "test.describe()"
   ]
  },
  {
   "cell_type": "markdown",
   "metadata": {},
   "source": [
    "# Data Cleaning"
   ]
  },
  {
   "cell_type": "code",
   "execution_count": 19,
   "metadata": {},
   "outputs": [
    {
     "data": {
      "text/plain": [
       "1015    54343.0\n",
       "1072     4343.0\n",
       "607       453.0\n",
       "980       434.0\n",
       "1335      180.0\n",
       "         ...   \n",
       "1712        NaN\n",
       "2412        NaN\n",
       "2458        NaN\n",
       "8178        NaN\n",
       "8226        NaN\n",
       "Name: fare_amount, Length: 16067, dtype: float64"
      ]
     },
     "execution_count": 19,
     "metadata": {},
     "output_type": "execute_result"
    }
   ],
   "source": [
    "train['fare_amount'].sort_values(ascending=False)"
   ]
  },
  {
   "cell_type": "code",
   "execution_count": 20,
   "metadata": {},
   "outputs": [
    {
     "data": {
      "text/plain": [
       "2"
      ]
     },
     "execution_count": 20,
     "metadata": {},
     "output_type": "execute_result"
    }
   ],
   "source": [
    "# fare amount above 453 will be considered as outliers\n",
    "sum(train['fare_amount']>453)"
   ]
  },
  {
   "cell_type": "code",
   "execution_count": 22,
   "metadata": {},
   "outputs": [
    {
     "data": {
      "text/plain": [
       "4"
      ]
     },
     "execution_count": 22,
     "metadata": {},
     "output_type": "execute_result"
    }
   ],
   "source": [
    "# fare amount cannot be 0 or less than 0 is not possible\n",
    "sum(train['fare_amount']<=0)"
   ]
  },
  {
   "cell_type": "code",
   "execution_count": 23,
   "metadata": {},
   "outputs": [
    {
     "data": {
      "text/plain": [
       "(       fare_amount           pickup_datetime  pickup_longitude  \\\n",
       " 2039         -2.90 2010-03-09 23:37:10+00:00        -73.789450   \n",
       " 2486         -2.50 2015-03-22 05:14:27+00:00        -74.000031   \n",
       " 2780          0.01 2015-05-01 15:38:41+00:00        -73.939041   \n",
       " 10002         0.00 2010-02-15 14:26:01+00:00        -73.987115   \n",
       " 13032        -3.00 2013-08-30 08:57:10+00:00        -73.995062   \n",
       " \n",
       "        pickup_latitude  dropoff_longitude  dropoff_latitude  passenger_count  \n",
       " 2039         40.643498         -73.788665         40.641952              1.0  \n",
       " 2486         40.720631         -73.999809         40.720539              1.0  \n",
       " 2780         40.713963         -73.941673         40.713997              1.0  \n",
       " 10002        40.738808         -74.005911         40.713960              1.0  \n",
       " 13032        40.740755         -73.995885         40.741357              4.0  ,\n",
       "        fare_amount           pickup_datetime  pickup_longitude  \\\n",
       " 314           34.0 2015-06-02 23:16:15+00:00        -73.974899   \n",
       " 566            4.9 2012-01-28 21:33:18+00:00        -73.955322   \n",
       " 678            6.5 2012-02-27 07:24:20+00:00        -73.983397   \n",
       " 1160          13.3 2011-05-25 23:58:48+00:00        -73.998360   \n",
       " 1935          10.1 2011-10-23 11:09:28+00:00        -73.971400   \n",
       " 2200           8.1 2011-05-23 16:54:19+00:00        -73.988008   \n",
       " 2425           8.9 2011-11-25 22:47:33+00:00        -73.999900   \n",
       " 3034           5.7 2011-03-06 12:03:14+00:00        -73.986557   \n",
       " 3413           7.3 2011-02-28 06:39:16+00:00        -73.973413   \n",
       " 3481          11.3 2011-11-30 17:23:02+00:00        -73.968100   \n",
       " 3489           7.3 2011-10-18 08:18:18+00:00        -73.966100   \n",
       " 3599           8.9 2011-03-06 18:24:50+00:00        -73.982657   \n",
       " 4114           4.5 2011-07-22 05:51:00+00:00        -73.975500   \n",
       " 4248           4.1 2012-02-15 11:19:50+00:00        -73.982112   \n",
       " 4344          24.9 2011-05-19 13:28:17+00:00        -73.789230   \n",
       " 4354           5.3 2012-01-15 12:06:43+00:00        -73.964400   \n",
       " 5058          12.9 2011-11-05 18:29:30+00:00        -74.008900   \n",
       " 5150           7.7 2011-11-07 22:07:24+00:00        -73.984900   \n",
       " 5161          11.3 2011-12-20 06:59:57+00:00        -73.983700   \n",
       " 5277           6.1 2012-04-12 09:35:22+00:00        -73.967003   \n",
       " 5517           3.3 2012-07-02 16:11:55+00:00        -74.007110   \n",
       " 5557          27.3 2011-02-08 13:31:18+00:00        -73.873318   \n",
       " 5688           4.9 2011-09-07 21:50:40+00:00        -73.986700   \n",
       " 5914           8.5 2011-12-19 22:44:42+00:00        -73.982000   \n",
       " 6036           7.7 2011-02-26 12:41:03+00:00        -73.976715   \n",
       " 6575           4.5 2012-04-19 19:44:48+00:00        -73.964598   \n",
       " 6713          10.5 2012-03-06 15:35:37+00:00        -73.965115   \n",
       " 6881           5.7 2011-06-14 10:12:16+00:00        -73.959000   \n",
       " 7279          10.9 2012-04-18 18:44:15+00:00        -73.982930   \n",
       " 7520           6.9 2011-06-08 13:11:10+00:00        -73.975100   \n",
       " 7640          10.9 2012-01-21 16:17:50+00:00        -73.999505   \n",
       " 7909           6.9 2011-03-12 17:03:23+00:00        -73.974793   \n",
       " 8321           7.3 2012-02-25 19:19:41+00:00        -74.003725   \n",
       " 8661           8.1 2012-01-13 13:47:57+00:00        -73.999700   \n",
       " 8862          11.5 2013-05-17 07:15:00+00:00        -73.969835   \n",
       " 8916           2.5 2011-09-13 18:45:31+00:00        -73.783300   \n",
       " 8971           7.7 2011-10-22 20:50:34+00:00        -73.998600   \n",
       " 9159           3.3 2011-06-04 10:38:47+00:00        -73.987300   \n",
       " 9965           9.3 2012-01-04 22:04:14+00:00        -73.971000   \n",
       " 10642         10.1 2012-03-10 18:21:16+00:00        -73.972272   \n",
       " 10663         18.1 2011-05-06 13:38:48+00:00        -73.973818   \n",
       " 10711          6.5 2012-03-31 20:16:01+00:00        -74.004323   \n",
       " 11462         15.7 2011-10-20 23:09:45+00:00        -73.994800   \n",
       " 11803         12.1 2011-06-21 08:58:36+00:00        -73.999000   \n",
       " 12216          5.7 2012-03-27 16:06:09+00:00        -73.982017   \n",
       " 12611          8.1 2011-07-22 23:13:58+00:00        -73.978000   \n",
       " 13029          4.5 2012-02-01 21:18:24+00:00        -73.982117   \n",
       " 13227         10.9 2011-04-22 18:13:12+00:00        -73.999512   \n",
       " 13379          7.3 2012-03-14 07:20:10+00:00        -73.964512   \n",
       " 13714          4.1 2011-12-15 07:05:33+00:00        -73.979400   \n",
       " 13742         21.7 2011-04-29 12:51:14+00:00        -74.009472   \n",
       " 14196          8.1 2011-10-06 23:31:04+00:00        -73.999400   \n",
       " 14308          8.1 2011-11-11 12:03:38+00:00          0.000000   \n",
       " 14872          3.3 2011-03-02 19:25:46+00:00        -73.948553   \n",
       " 15286          4.9 2012-03-20 22:23:34+00:00        -73.971808   \n",
       " 15514          6.5 2012-02-12 02:03:50+00:00        -73.999342   \n",
       " 15554          6.5 2011-08-03 08:31:19+00:00        -73.991700   \n",
       " 15919         16.5 2011-10-17 08:58:54+00:00          0.000000   \n",
       " \n",
       "        pickup_latitude  dropoff_longitude  dropoff_latitude  passenger_count  \n",
       " 314          40.751095         -73.908546         40.881878             0.00  \n",
       " 566          40.782840         -73.955797         40.773673             0.00  \n",
       " 678          40.738183         -73.971395         40.758023             0.00  \n",
       " 1160         40.740348         -73.946455         40.777348             0.00  \n",
       " 1935         40.795000         -73.967900         40.768600             0.00  \n",
       " 2200         40.748303         -74.005185         40.738733             0.00  \n",
       " 2425         40.738600         -73.971800         40.746300             0.00  \n",
       " 3034         40.745783         -73.994545         40.729995             0.00  \n",
       " 3413         40.743708         -73.985220         40.741583             0.00  \n",
       " 3481         40.762500         -73.984400         40.760900             0.00  \n",
       " 3489         40.794500         -73.960300         40.779800             0.00  \n",
       " 3599         40.746145         -74.005580         40.724402             0.00  \n",
       " 4114         40.760800         -73.990200         40.760000             0.00  \n",
       " 4248         40.721073         -73.992240         40.725313             0.00  \n",
       " 4344         40.646622         -73.725032         40.614140             0.00  \n",
       " 4354         40.767500         -73.981600         40.774000             0.00  \n",
       " 5058         40.709400         -73.985400         40.756200             0.00  \n",
       " 5150         40.675300         -74.010400         40.655200             0.00  \n",
       " 5161         40.775800         -73.985300         40.741300             0.00  \n",
       " 5277         40.772417         -73.968860         40.761147             0.00  \n",
       " 5517         40.743862         -74.003337         40.748877             0.00  \n",
       " 5557         40.773948         -74.010205         40.711158             0.00  \n",
       " 5688         40.761300         -73.982300         40.773900             0.00  \n",
       " 5914         40.755900         -73.955600         40.769600             0.00  \n",
       " 6036         40.775708         -73.972785         40.764467             0.00  \n",
       " 6575         40.807213         -73.970875         40.797955             0.00  \n",
       " 6713         40.766463         -73.997523         40.744878             0.00  \n",
       " 6881         40.781000         -73.950300         40.775400             0.00  \n",
       " 7279         40.722645         -73.971108         40.760172             0.00  \n",
       " 7520         40.755200         -73.980000         40.765900             0.00  \n",
       " 7640         40.725002         -73.973262         40.763290             0.00  \n",
       " 7909         40.759865         -73.955718         40.772732             0.00  \n",
       " 8321         40.742108         -73.988270         40.759308             0.00  \n",
       " 8661         40.721800         -74.005600         40.741100             0.00  \n",
       " 8862         40.753017         -73.998580         40.712927             0.12  \n",
       " 8916         40.648600         -73.783300         40.648600             0.00  \n",
       " 8971         40.761000         -73.977900         40.777200             0.00  \n",
       " 9159         40.729200         -73.994000         40.732100             0.00  \n",
       " 9965         40.754900         -74.004500         40.736100             0.00  \n",
       " 10642        40.754037         -73.994090         40.734440             0.00  \n",
       " 10663        40.789362         -73.942252         40.754120             0.00  \n",
       " 10711        40.724073         -74.006453         40.738420             0.00  \n",
       " 11462        40.750400         -73.959200         40.710600             0.00  \n",
       " 11803        40.724800         -73.980600         40.754900             0.00  \n",
       " 12216        40.756338         -73.980987         40.745442             0.00  \n",
       " 12611        40.752300         -73.991800         40.763900             0.00  \n",
       " 13029        40.770408         -73.980057         40.762155             0.00  \n",
       " 13227        40.722078         -73.989495         40.747422             0.00  \n",
       " 13379        40.771577         -73.945595         40.778032             0.00  \n",
       " 13714        40.731100         -73.981500         40.724800             0.00  \n",
       " 13742        40.702140         -73.959185         40.783245             0.00  \n",
       " 14196        40.743800         -73.990400         40.724800             0.00  \n",
       " 14308         0.000000         -73.990000         40.755400             0.00  \n",
       " 14872        40.773972         -73.945098         40.778413             0.00  \n",
       " 15286        40.760143         -73.962027         40.767677             0.00  \n",
       " 15514        40.718872         -73.984112         40.725242             0.00  \n",
       " 15554        40.750100         -73.981000         40.750900             0.00  \n",
       " 15919         0.000000         -73.999700         40.734500             0.00  ,\n",
       "       fare_amount           pickup_datetime  pickup_longitude  \\\n",
       " 233           8.5 2011-07-24 01:14:35+00:00          0.000000   \n",
       " 263           4.9 2010-07-12 09:44:33+00:00        -73.983249   \n",
       " 293           6.1 2011-01-18 23:48:00+00:00        -74.006642   \n",
       " 356           8.5 2013-06-18 10:27:05+00:00        -73.992108   \n",
       " 386           8.1 2009-08-21 19:35:05+00:00        -73.960853   \n",
       " 413           NaN 2013-09-12 11:32:00+00:00        -73.982060   \n",
       " 971          10.1 2010-11-21 01:41:00+00:00        -74.004500   \n",
       " 1007          3.7 2010-12-14 14:46:00+00:00        -73.969157   \n",
       " 1043          5.7 2012-08-22 22:08:29+00:00        -73.973573   \n",
       " 1107          4.9 2009-08-08 21:50:50+00:00        -73.988977   \n",
       " 1146          8.0 2014-03-27 08:05:01+00:00        -73.991098   \n",
       " 1200          9.7 2011-08-16 09:29:00+00:00        -73.980487   \n",
       " 1242          5.3 2011-10-16 00:22:00+00:00        -73.981095   \n",
       " 8406          6.9 2010-08-25 11:41:00+00:00          0.000000   \n",
       " 8445          5.7 2009-03-28 22:00:00+00:00        -73.982413   \n",
       " 8506         11.3 2010-05-23 20:06:37+00:00        -73.985424   \n",
       " 8571         12.5 2011-12-03 03:21:00+00:00        -73.993718   \n",
       " 8631         20.0 2012-12-10 22:28:00+00:00        -73.955445   \n",
       " 8715          4.5 2009-09-04 09:14:03+00:00        -73.977518   \n",
       " 8985          8.5 2015-01-14 15:10:21+00:00        -73.955444   \n",
       " \n",
       "       pickup_latitude  dropoff_longitude  dropoff_latitude  passenger_count  \n",
       " 233          0.000000           0.000000          0.000000            236.0  \n",
       " 263         40.734655         -73.991278         40.738918            456.0  \n",
       " 293         40.738927         -74.010828         40.717907           5334.0  \n",
       " 356         40.764203         -73.973000         40.762695            535.0  \n",
       " 386         40.761557         -73.976335         40.748361            354.0  \n",
       " 413         40.772705         -73.956213         40.771777             55.0  \n",
       " 971         40.742143         -73.994330         40.720412            554.0  \n",
       " 1007        40.759000         -73.968763         40.764617             53.0  \n",
       " 1043        40.760184         -73.953564         40.767392             35.0  \n",
       " 1107        40.721068         -73.982368         40.732064            345.0  \n",
       " 1146        40.770655         -73.976933         40.790070           5345.0  \n",
       " 1200        40.741610         -73.980617         40.746868            536.0  \n",
       " 1242        40.738160         -73.990587         40.740105             43.0  \n",
       " 8406         0.000000           0.000000          0.000000             53.0  \n",
       " 8445        40.751320         -73.971292         40.748502             58.0  \n",
       " 8506        40.738468         -74.001698         40.707758            537.0  \n",
       " 8571        40.762039         -73.977527         40.734024             87.0  \n",
       " 8631        40.670232         -74.004795         40.731477             43.0  \n",
       " 8715        40.758480         -73.983252         40.749837            531.2  \n",
       " 8985        40.787605         -73.965561         40.798691            557.0  ,\n",
       "       fare_amount           pickup_datetime  pickup_longitude  \\\n",
       " 1015      54343.0 2015-02-27 17:03:50+00:00        -74.003319   \n",
       " 1072       4343.0 2012-01-15 20:42:04+00:00        -73.976309   \n",
       " \n",
       "       pickup_latitude  dropoff_longitude  dropoff_latitude  passenger_count  \n",
       " 1015        40.727455         -73.964470         40.764378              1.0  \n",
       " 1072        40.751634         -74.014854         40.709044              1.0  )"
      ]
     },
     "execution_count": 23,
     "metadata": {},
     "output_type": "execute_result"
    }
   ],
   "source": [
    "# observations which are not needed in our dataset\n",
    "train[train['fare_amount']<1],train[train['passenger_count']<1],train[train['passenger_count']>6],train[train['fare_amount']>453]"
   ]
  },
  {
   "cell_type": "code",
   "execution_count": 25,
   "metadata": {},
   "outputs": [
    {
     "name": "stdout",
     "output_type": "stream",
     "text": [
      "Pickup Latitude above 90=1\n",
      "Pickup Latitude below -90=0\n",
      "Pickup Longitude above 180=0\n",
      "Pickup Longitude below -180=0\n",
      "Dropoff Longitude above 180=0\n",
      "Dropoff Longitude below -180=0\n",
      "Dropoff Latitude above 90=0\n",
      "Dropoff Latitude below -90=0\n"
     ]
    }
   ],
   "source": [
    "# latitude range is(-90,90) and Longitude range is (-180,180). Removing which doesn't satisfy these range respectively\n",
    "print('Pickup Latitude above 90={}'.format(sum(train['pickup_latitude']>90)))\n",
    "print('Pickup Latitude below -90={}'.format(sum(train['pickup_latitude']<-90)))\n",
    "print('Pickup Longitude above 180={}'.format(sum(train['pickup_longitude']>180)))\n",
    "print('Pickup Longitude below -180={}'.format(sum(train['pickup_longitude']<-180)))\n",
    "print('Dropoff Longitude above 180={}'.format(sum(train['dropoff_longitude']>180)))\n",
    "print('Dropoff Longitude below -180={}'.format(sum(train['dropoff_longitude']<-180)))\n",
    "print('Dropoff Latitude above 90={}'.format(sum(train['dropoff_latitude']>90)))\n",
    "print('Dropoff Latitude below -90={}'.format(sum(train['dropoff_latitude']<-90)))"
   ]
  },
  {
   "cell_type": "code",
   "execution_count": 26,
   "metadata": {},
   "outputs": [
    {
     "name": "stdout",
     "output_type": "stream",
     "text": [
      "pickup_latitude  equals to 0=315\n",
      "pickup_longitude  equals to 0=315\n",
      "dropoff_latitude  equals to 0=312\n",
      "dropoff_longitude  equals to 0=314\n"
     ]
    }
   ],
   "source": [
    "# Latitude and Longitude cannot have 0 value \n",
    "for i in ['pickup_latitude','pickup_longitude','dropoff_latitude','dropoff_longitude']:\n",
    "    print(i,' equals to 0={}'.format(sum(train[i]==0)))"
   ]
  },
  {
   "cell_type": "code",
   "execution_count": 27,
   "metadata": {},
   "outputs": [],
   "source": [
    "# Data Cleaning on basis of above observations\n",
    "train=train.drop(train[train['fare_amount']<1].index,axis=0)\n",
    "train=train.drop(train[train['fare_amount']>453].index,axis=0)\n",
    "train=train.drop(train[train['passenger_count']<1].index,axis=0)\n",
    "train=train.drop(train[train['passenger_count']>6].index,axis=0)\n",
    "train=train.drop(train[train['pickup_latitude']>90].index,axis=0)\n",
    "for i in ['pickup_latitude','pickup_longitude','dropoff_latitude','dropoff_longitude']:\n",
    "    train=train.drop(train[train[i]==0].index,axis=0)"
   ]
  },
  {
   "cell_type": "code",
   "execution_count": 28,
   "metadata": {},
   "outputs": [
    {
     "data": {
      "text/plain": [
       "(0, 0, 0, 0)"
      ]
     },
     "execution_count": 28,
     "metadata": {},
     "output_type": "execute_result"
    }
   ],
   "source": [
    "#checking data after cleaning\n",
    "sum(train['fare_amount']<1),sum(train['passenger_count']<1),sum(train['passenger_count']>6),sum(train['fare_amount']>453)"
   ]
  },
  {
   "cell_type": "code",
   "execution_count": 29,
   "metadata": {},
   "outputs": [
    {
     "name": "stdout",
     "output_type": "stream",
     "text": [
      "pickup_latitude  equals to 0=0\n",
      "pickup_longitude  equals to 0=0\n",
      "dropoff_latitude  equals to 0=0\n",
      "dropoff_longitude  equals to 0=0\n"
     ]
    }
   ],
   "source": [
    "# checking for latitude and longitude also\n",
    "for i in ['pickup_latitude','pickup_longitude','dropoff_latitude','dropoff_longitude']:\n",
    "    print(i,' equals to 0={}'.format(sum(train[i]==0)))"
   ]
  },
  {
   "cell_type": "markdown",
   "metadata": {},
   "source": [
    "# Feature Engineering"
   ]
  },
  {
   "cell_type": "code",
   "execution_count": 30,
   "metadata": {},
   "outputs": [
    {
     "data": {
      "text/plain": [
       "(15659, 7)"
      ]
     },
     "execution_count": 30,
     "metadata": {},
     "output_type": "execute_result"
    }
   ],
   "source": [
    "train.shape"
   ]
  },
  {
   "cell_type": "code",
   "execution_count": 33,
   "metadata": {},
   "outputs": [
    {
     "name": "stdout",
     "output_type": "stream",
     "text": [
      "fare_amount          22\n",
      "pickup_datetime       1\n",
      "pickup_longitude      0\n",
      "pickup_latitude       0\n",
      "dropoff_longitude     0\n",
      "dropoff_latitude      0\n",
      "passenger_count      55\n",
      "dtype: int64\n",
      "\n",
      "\n",
      "\n",
      "pickup_datetime      0\n",
      "pickup_longitude     0\n",
      "pickup_latitude      0\n",
      "dropoff_longitude    0\n",
      "dropoff_latitude     0\n",
      "passenger_count      0\n",
      "dtype: int64\n"
     ]
    }
   ],
   "source": [
    "print(train.isnull().sum()),\n",
    "print('\\n\\n'),\n",
    "print(test.isnull().sum())"
   ]
  },
  {
   "cell_type": "code",
   "execution_count": 37,
   "metadata": {},
   "outputs": [
    {
     "data": {
      "text/html": [
       "<div>\n",
       "<style scoped>\n",
       "    .dataframe tbody tr th:only-of-type {\n",
       "        vertical-align: middle;\n",
       "    }\n",
       "\n",
       "    .dataframe tbody tr th {\n",
       "        vertical-align: top;\n",
       "    }\n",
       "\n",
       "    .dataframe thead th {\n",
       "        text-align: right;\n",
       "    }\n",
       "</style>\n",
       "<table border=\"1\" class=\"dataframe\">\n",
       "  <thead>\n",
       "    <tr style=\"text-align: right;\">\n",
       "      <th></th>\n",
       "      <th>index</th>\n",
       "      <th>0</th>\n",
       "    </tr>\n",
       "  </thead>\n",
       "  <tbody>\n",
       "    <tr>\n",
       "      <th>0</th>\n",
       "      <td>fare_amount</td>\n",
       "      <td>22</td>\n",
       "    </tr>\n",
       "    <tr>\n",
       "      <th>1</th>\n",
       "      <td>pickup_datetime</td>\n",
       "      <td>1</td>\n",
       "    </tr>\n",
       "    <tr>\n",
       "      <th>2</th>\n",
       "      <td>pickup_longitude</td>\n",
       "      <td>0</td>\n",
       "    </tr>\n",
       "    <tr>\n",
       "      <th>3</th>\n",
       "      <td>pickup_latitude</td>\n",
       "      <td>0</td>\n",
       "    </tr>\n",
       "    <tr>\n",
       "      <th>4</th>\n",
       "      <td>dropoff_longitude</td>\n",
       "      <td>0</td>\n",
       "    </tr>\n",
       "    <tr>\n",
       "      <th>5</th>\n",
       "      <td>dropoff_latitude</td>\n",
       "      <td>0</td>\n",
       "    </tr>\n",
       "    <tr>\n",
       "      <th>6</th>\n",
       "      <td>passenger_count</td>\n",
       "      <td>55</td>\n",
       "    </tr>\n",
       "  </tbody>\n",
       "</table>\n",
       "</div>"
      ],
      "text/plain": [
       "               index   0\n",
       "0        fare_amount  22\n",
       "1    pickup_datetime   1\n",
       "2   pickup_longitude   0\n",
       "3    pickup_latitude   0\n",
       "4  dropoff_longitude   0\n",
       "5   dropoff_latitude   0\n",
       "6    passenger_count  55"
      ]
     },
     "execution_count": 37,
     "metadata": {},
     "output_type": "execute_result"
    }
   ],
   "source": [
    "missing_values=pd.DataFrame(train.isnull().sum())\n",
    "missing_values=missing_values.reset_index()\n",
    "missing_values"
   ]
  },
  {
   "cell_type": "code",
   "execution_count": 38,
   "metadata": {},
   "outputs": [
    {
     "data": {
      "text/html": [
       "<div>\n",
       "<style scoped>\n",
       "    .dataframe tbody tr th:only-of-type {\n",
       "        vertical-align: middle;\n",
       "    }\n",
       "\n",
       "    .dataframe tbody tr th {\n",
       "        vertical-align: top;\n",
       "    }\n",
       "\n",
       "    .dataframe thead th {\n",
       "        text-align: right;\n",
       "    }\n",
       "</style>\n",
       "<table border=\"1\" class=\"dataframe\">\n",
       "  <thead>\n",
       "    <tr style=\"text-align: right;\">\n",
       "      <th></th>\n",
       "      <th>features</th>\n",
       "      <th>missing_percent</th>\n",
       "    </tr>\n",
       "  </thead>\n",
       "  <tbody>\n",
       "    <tr>\n",
       "      <th>0</th>\n",
       "      <td>fare_amount</td>\n",
       "      <td>0.001405</td>\n",
       "    </tr>\n",
       "    <tr>\n",
       "      <th>1</th>\n",
       "      <td>pickup_datetime</td>\n",
       "      <td>0.000064</td>\n",
       "    </tr>\n",
       "    <tr>\n",
       "      <th>2</th>\n",
       "      <td>pickup_longitude</td>\n",
       "      <td>0.000000</td>\n",
       "    </tr>\n",
       "    <tr>\n",
       "      <th>3</th>\n",
       "      <td>pickup_latitude</td>\n",
       "      <td>0.000000</td>\n",
       "    </tr>\n",
       "    <tr>\n",
       "      <th>4</th>\n",
       "      <td>dropoff_longitude</td>\n",
       "      <td>0.000000</td>\n",
       "    </tr>\n",
       "    <tr>\n",
       "      <th>5</th>\n",
       "      <td>dropoff_latitude</td>\n",
       "      <td>0.000000</td>\n",
       "    </tr>\n",
       "    <tr>\n",
       "      <th>6</th>\n",
       "      <td>passenger_count</td>\n",
       "      <td>0.003512</td>\n",
       "    </tr>\n",
       "  </tbody>\n",
       "</table>\n",
       "</div>"
      ],
      "text/plain": [
       "            features  missing_percent\n",
       "0        fare_amount         0.001405\n",
       "1    pickup_datetime         0.000064\n",
       "2   pickup_longitude         0.000000\n",
       "3    pickup_latitude         0.000000\n",
       "4  dropoff_longitude         0.000000\n",
       "5   dropoff_latitude         0.000000\n",
       "6    passenger_count         0.003512"
      ]
     },
     "execution_count": 38,
     "metadata": {},
     "output_type": "execute_result"
    }
   ],
   "source": [
    "missing_values=missing_values.rename(columns={'index':'features',0:'missing_percent'})\n",
    "missing_values['missing_percent']=(missing_values['missing_percent']/len(train))\n",
    "missing_values"
   ]
  },
  {
   "cell_type": "code",
   "execution_count": 43,
   "metadata": {},
   "outputs": [
    {
     "data": {
      "text/html": [
       "<div>\n",
       "<style scoped>\n",
       "    .dataframe tbody tr th:only-of-type {\n",
       "        vertical-align: middle;\n",
       "    }\n",
       "\n",
       "    .dataframe tbody tr th {\n",
       "        vertical-align: top;\n",
       "    }\n",
       "\n",
       "    .dataframe thead th {\n",
       "        text-align: right;\n",
       "    }\n",
       "</style>\n",
       "<table border=\"1\" class=\"dataframe\">\n",
       "  <thead>\n",
       "    <tr style=\"text-align: right;\">\n",
       "      <th></th>\n",
       "      <th>features</th>\n",
       "      <th>missing_percent</th>\n",
       "    </tr>\n",
       "  </thead>\n",
       "  <tbody>\n",
       "    <tr>\n",
       "      <th>0</th>\n",
       "      <td>passenger_count</td>\n",
       "      <td>0.003512</td>\n",
       "    </tr>\n",
       "    <tr>\n",
       "      <th>1</th>\n",
       "      <td>fare_amount</td>\n",
       "      <td>0.001405</td>\n",
       "    </tr>\n",
       "    <tr>\n",
       "      <th>2</th>\n",
       "      <td>pickup_datetime</td>\n",
       "      <td>0.000064</td>\n",
       "    </tr>\n",
       "    <tr>\n",
       "      <th>3</th>\n",
       "      <td>pickup_longitude</td>\n",
       "      <td>0.000000</td>\n",
       "    </tr>\n",
       "    <tr>\n",
       "      <th>4</th>\n",
       "      <td>pickup_latitude</td>\n",
       "      <td>0.000000</td>\n",
       "    </tr>\n",
       "    <tr>\n",
       "      <th>5</th>\n",
       "      <td>dropoff_longitude</td>\n",
       "      <td>0.000000</td>\n",
       "    </tr>\n",
       "    <tr>\n",
       "      <th>6</th>\n",
       "      <td>dropoff_latitude</td>\n",
       "      <td>0.000000</td>\n",
       "    </tr>\n",
       "  </tbody>\n",
       "</table>\n",
       "</div>"
      ],
      "text/plain": [
       "            features  missing_percent\n",
       "0    passenger_count         0.003512\n",
       "1        fare_amount         0.001405\n",
       "2    pickup_datetime         0.000064\n",
       "3   pickup_longitude         0.000000\n",
       "4    pickup_latitude         0.000000\n",
       "5  dropoff_longitude         0.000000\n",
       "6   dropoff_latitude         0.000000"
      ]
     },
     "execution_count": 43,
     "metadata": {},
     "output_type": "execute_result"
    }
   ],
   "source": [
    "missing_values=missing_values.sort_values('missing_percent',ascending=False).reset_index(drop=True)\n",
    "missing_values"
   ]
  },
  {
   "cell_type": "code",
   "execution_count": 44,
   "metadata": {},
   "outputs": [
    {
     "data": {
      "text/plain": [
       "(15581, 7)"
      ]
     },
     "execution_count": 44,
     "metadata": {},
     "output_type": "execute_result"
    }
   ],
   "source": [
    "#dropping the missing_values as they are very less\n",
    "train=train.drop(train[train['fare_amount'].isnull()].index,axis=0)\n",
    "train=train.drop(train[train['passenger_count'].isnull()].index,axis=0)\n",
    "train=train.drop(train[train['pickup_datetime'].isnull()].index,axis=0)\n",
    "train.shape"
   ]
  },
  {
   "cell_type": "code",
   "execution_count": 45,
   "metadata": {},
   "outputs": [
    {
     "data": {
      "text/plain": [
       "fare_amount          0\n",
       "pickup_datetime      0\n",
       "pickup_longitude     0\n",
       "pickup_latitude      0\n",
       "dropoff_longitude    0\n",
       "dropoff_latitude     0\n",
       "passenger_count      0\n",
       "dtype: int64"
      ]
     },
     "execution_count": 45,
     "metadata": {},
     "output_type": "execute_result"
    }
   ],
   "source": [
    "train.isnull().sum()\n",
    "# So now our dataset is clean and dosen't contain any missing values"
   ]
  },
  {
   "cell_type": "code",
   "execution_count": 46,
   "metadata": {},
   "outputs": [
    {
     "data": {
      "text/plain": [
       "array([1. , 2. , 3. , 6. , 5. , 4. , 1.3])"
      ]
     },
     "execution_count": 46,
     "metadata": {},
     "output_type": "execute_result"
    }
   ],
   "source": [
    "train['passenger_count'].unique()"
   ]
  },
  {
   "cell_type": "code",
   "execution_count": 47,
   "metadata": {},
   "outputs": [
    {
     "data": {
      "text/plain": [
       "0"
      ]
     },
     "execution_count": 47,
     "metadata": {},
     "output_type": "execute_result"
    }
   ],
   "source": [
    "sum(train['passenger_count']==1.3)\n",
    "#as passenger count = 1.3 is not possible so we will dropping it\n",
    "train=train.drop(train[train['passenger_count']==1.3].index,axis=0)\n",
    "sum(train['passenger_count']==1.3)"
   ]
  },
  {
   "cell_type": "code",
   "execution_count": 48,
   "metadata": {},
   "outputs": [
    {
     "data": {
      "text/plain": [
       "array([1., 2., 3., 6., 5., 4.])"
      ]
     },
     "execution_count": 48,
     "metadata": {},
     "output_type": "execute_result"
    }
   ],
   "source": [
    "# checking\n",
    "train['passenger_count'].unique()"
   ]
  },
  {
   "cell_type": "code",
   "execution_count": 50,
   "metadata": {},
   "outputs": [],
   "source": [
    "# splitting the datetime in year,month,day,hour,minute,second\n",
    "train['pickup_year']=train['pickup_datetime'].dt.year\n",
    "train['pickup_month']=train['pickup_datetime'].dt.month\n",
    "train['pickup_day']=train['pickup_datetime'].dt.day\n",
    "train['pickup_hour']=train['pickup_datetime'].dt.hour\n",
    "train['pickup_minute']=train['pickup_datetime'].dt.minute\n",
    "train['pickup_second']=train['pickup_datetime'].dt.second\n",
    "\n",
    "# In test dataset\n",
    "test['pickup_year']=test['pickup_datetime'].dt.year\n",
    "test['pickup_month']=test['pickup_datetime'].dt.month\n",
    "test['pickup_day']=test['pickup_datetime'].dt.day\n",
    "test['pickup_hour']=test['pickup_datetime'].dt.hour\n",
    "test['pickup_minute']=test['pickup_datetime'].dt.minute\n",
    "test['pickup_second']=test['pickup_datetime'].dt.second"
   ]
  },
  {
   "cell_type": "code",
   "execution_count": 52,
   "metadata": {},
   "outputs": [],
   "source": [
    "train['pickup_dayofweek']=train['pickup_datetime'].dt.dayofweek\n",
    "test['pickup_dayofweek']=test['pickup_datetime'].dt.dayofweek"
   ]
  },
  {
   "cell_type": "code",
   "execution_count": 53,
   "metadata": {},
   "outputs": [
    {
     "name": "stdout",
     "output_type": "stream",
     "text": [
      "<class 'pandas.core.frame.DataFrame'>\n",
      "Int64Index: 15580 entries, 0 to 16065\n",
      "Data columns (total 14 columns):\n",
      " #   Column             Non-Null Count  Dtype              \n",
      "---  ------             --------------  -----              \n",
      " 0   fare_amount        15580 non-null  float64            \n",
      " 1   pickup_datetime    15580 non-null  datetime64[ns, UTC]\n",
      " 2   pickup_longitude   15580 non-null  float64            \n",
      " 3   pickup_latitude    15580 non-null  float64            \n",
      " 4   dropoff_longitude  15580 non-null  float64            \n",
      " 5   dropoff_latitude   15580 non-null  float64            \n",
      " 6   passenger_count    15580 non-null  float64            \n",
      " 7   pickup_year        15580 non-null  int64              \n",
      " 8   pickup_month       15580 non-null  int64              \n",
      " 9   pickup_day         15580 non-null  int64              \n",
      " 10  pickup_hour        15580 non-null  int64              \n",
      " 11  pickup_minute      15580 non-null  int64              \n",
      " 12  pickup_second      15580 non-null  int64              \n",
      " 13  pickup_dayofweek   15580 non-null  int64              \n",
      "dtypes: datetime64[ns, UTC](1), float64(6), int64(7)\n",
      "memory usage: 1.8 MB\n",
      "<class 'pandas.core.frame.DataFrame'>\n",
      "RangeIndex: 9914 entries, 0 to 9913\n",
      "Data columns (total 13 columns):\n",
      " #   Column             Non-Null Count  Dtype              \n",
      "---  ------             --------------  -----              \n",
      " 0   pickup_datetime    9914 non-null   datetime64[ns, UTC]\n",
      " 1   pickup_longitude   9914 non-null   float64            \n",
      " 2   pickup_latitude    9914 non-null   float64            \n",
      " 3   dropoff_longitude  9914 non-null   float64            \n",
      " 4   dropoff_latitude   9914 non-null   float64            \n",
      " 5   passenger_count    9914 non-null   int64              \n",
      " 6   pickup_year        9914 non-null   int64              \n",
      " 7   pickup_month       9914 non-null   int64              \n",
      " 8   pickup_day         9914 non-null   int64              \n",
      " 9   pickup_hour        9914 non-null   int64              \n",
      " 10  pickup_minute      9914 non-null   int64              \n",
      " 11  pickup_second      9914 non-null   int64              \n",
      " 12  pickup_dayofweek   9914 non-null   int64              \n",
      "dtypes: datetime64[ns, UTC](1), float64(4), int64(8)\n",
      "memory usage: 1007.0 KB\n"
     ]
    },
    {
     "data": {
      "text/plain": [
       "(None, None)"
      ]
     },
     "execution_count": 53,
     "metadata": {},
     "output_type": "execute_result"
    }
   ],
   "source": [
    "train.info(),test.info()"
   ]
  },
  {
   "cell_type": "code",
   "execution_count": 54,
   "metadata": {},
   "outputs": [
    {
     "data": {
      "text/plain": [
       "(array([2009, 2010, 2011, 2012, 2013, 2014, 2015], dtype=int64),\n",
       " array([2015, 2011, 2012, 2014, 2010, 2013, 2009], dtype=int64))"
      ]
     },
     "execution_count": 54,
     "metadata": {},
     "output_type": "execute_result"
    }
   ],
   "source": [
    "train['pickup_year'].unique(),test['pickup_year'].unique()"
   ]
  },
  {
   "cell_type": "code",
   "execution_count": 55,
   "metadata": {},
   "outputs": [
    {
     "data": {
      "text/plain": [
       "(array([ 6,  1,  8,  4,  3, 11,  9,  7,  2, 12,  5, 10], dtype=int64),\n",
       " array([ 1, 10, 12,  2,  3,  7,  6,  8, 11,  9,  4,  5], dtype=int64))"
      ]
     },
     "execution_count": 55,
     "metadata": {},
     "output_type": "execute_result"
    }
   ],
   "source": [
    "train['pickup_month'].unique(),test['pickup_month'].unique()"
   ]
  },
  {
   "cell_type": "code",
   "execution_count": 56,
   "metadata": {},
   "outputs": [
    {
     "data": {
      "text/plain": [
       "(array([15,  5, 18, 21,  9,  6, 20,  4,  2,  8, 19, 22,  7, 12, 10, 28, 11,\n",
       "        24, 29, 31,  1, 14, 23, 16, 17, 27,  3, 25, 30, 26, 13],\n",
       "       dtype=int64),\n",
       " array([27,  8,  1,  6, 18, 29, 15, 14, 12, 20, 22,  4, 24, 28, 21,  9, 25,\n",
       "         7, 31, 10, 23, 30,  2,  5,  3, 16, 11, 26, 19, 17, 13],\n",
       "       dtype=int64))"
      ]
     },
     "execution_count": 56,
     "metadata": {},
     "output_type": "execute_result"
    }
   ],
   "source": [
    "train['pickup_day'].unique(),test['pickup_day'].unique()"
   ]
  },
  {
   "cell_type": "code",
   "execution_count": 57,
   "metadata": {},
   "outputs": [
    {
     "data": {
      "text/plain": [
       "(array([1, 5, 3, 0, 6, 2, 4], dtype=int64), 1    1692\n",
       " 2    1612\n",
       " 5    1475\n",
       " 0    1454\n",
       " 4    1283\n",
       " 6    1222\n",
       " 3    1176\n",
       " Name: pickup_dayofweek, dtype: int64)"
      ]
     },
     "execution_count": 57,
     "metadata": {},
     "output_type": "execute_result"
    }
   ],
   "source": [
    "train['pickup_dayofweek'].unique(),train['pickup_dayofweek'].value_counts(),\n",
    "test['pickup_dayofweek'].unique(),test['pickup_dayofweek'].value_counts()"
   ]
  },
  {
   "cell_type": "code",
   "execution_count": 58,
   "metadata": {},
   "outputs": [
    {
     "data": {
      "text/plain": [
       "(array([17, 16,  0,  4,  7,  9, 20,  1, 19, 14, 13, 12, 18, 15,  6, 23,  3,\n",
       "         8, 10, 11, 21,  2, 22,  5], dtype=int64), 18    968\n",
       " 19    961\n",
       " 20    932\n",
       " 21    892\n",
       " 22    880\n",
       " 12    777\n",
       " 14    774\n",
       " 13    762\n",
       " 9     761\n",
       " 23    752\n",
       " 17    751\n",
       " 15    721\n",
       " 11    721\n",
       " 8     681\n",
       " 10    654\n",
       " 16    644\n",
       " 7     625\n",
       " 0     583\n",
       " 1     452\n",
       " 6     326\n",
       " 2     322\n",
       " 3     282\n",
       " 4     202\n",
       " 5     157\n",
       " Name: pickup_hour, dtype: int64)"
      ]
     },
     "execution_count": 58,
     "metadata": {},
     "output_type": "execute_result"
    }
   ],
   "source": [
    "train['pickup_hour'].unique(),train['pickup_hour'].value_counts()"
   ]
  },
  {
   "cell_type": "code",
   "execution_count": 59,
   "metadata": {},
   "outputs": [
    {
     "data": {
      "text/plain": [
       "(array([13, 11, 21, 12, 15, 20,  3, 16,  2,  9,  0,  8, 19, 18, 14, 23, 10,\n",
       "        22,  4,  7,  6,  5, 17,  1], dtype=int64), 7     830\n",
       " 22    804\n",
       " 21    797\n",
       " 16    756\n",
       " 18    752\n",
       " 2     565\n",
       " 12    523\n",
       " 23    503\n",
       " 9     464\n",
       " 13    458\n",
       " 17    425\n",
       " 14    401\n",
       " 0     379\n",
       " 19    334\n",
       " 20    325\n",
       " 11    276\n",
       " 8     267\n",
       " 15    265\n",
       " 1     232\n",
       " 10    190\n",
       " 3     145\n",
       " 6      94\n",
       " 5      65\n",
       " 4      64\n",
       " Name: pickup_hour, dtype: int64)"
      ]
     },
     "execution_count": 59,
     "metadata": {},
     "output_type": "execute_result"
    }
   ],
   "source": [
    "test['pickup_hour'].unique(),test['pickup_hour'].value_counts()"
   ]
  },
  {
   "cell_type": "code",
   "execution_count": 60,
   "metadata": {},
   "outputs": [
    {
     "data": {
      "text/plain": [
       "(array([26, 52, 35, 30, 51, 50, 22, 11,  4, 54,  8, 36, 18, 15, 17, 29, 37,\n",
       "        47,  3, 10,  5, 42, 39, 55, 38, 28, 12, 14, 53, 16,  9, 31,  1,  7,\n",
       "         6, 13, 57, 21, 59, 19, 34, 20,  0, 33, 24, 44, 40,  2, 49, 48, 41,\n",
       "        56, 23, 43, 27, 45, 46, 32, 58, 25], dtype=int64), 5     291\n",
       " 20    287\n",
       " 10    285\n",
       " 43    282\n",
       " 41    281\n",
       " 54    278\n",
       " 49    278\n",
       " 39    278\n",
       " 51    277\n",
       " 11    276\n",
       " 37    272\n",
       " 13    272\n",
       " 26    272\n",
       " 53    272\n",
       " 32    271\n",
       " 27    270\n",
       " 45    269\n",
       " 47    269\n",
       " 33    268\n",
       " 23    267\n",
       " 24    267\n",
       " 31    267\n",
       " 1     267\n",
       " 28    266\n",
       " 59    265\n",
       " 56    265\n",
       " 29    264\n",
       " 22    263\n",
       " 42    262\n",
       " 50    261\n",
       " 2     261\n",
       " 46    260\n",
       " 48    260\n",
       " 7     259\n",
       " 44    257\n",
       " 6     257\n",
       " 14    257\n",
       " 57    257\n",
       " 52    256\n",
       " 38    256\n",
       " 12    255\n",
       " 35    254\n",
       " 17    254\n",
       " 21    254\n",
       " 58    252\n",
       " 15    251\n",
       " 0     249\n",
       " 16    248\n",
       " 30    247\n",
       " 25    245\n",
       " 34    245\n",
       " 18    244\n",
       " 19    243\n",
       " 4     242\n",
       " 9     240\n",
       " 55    236\n",
       " 3     231\n",
       " 8     221\n",
       " 40    216\n",
       " 36    211\n",
       " Name: pickup_minute, dtype: int64)"
      ]
     },
     "execution_count": 60,
     "metadata": {},
     "output_type": "execute_result"
    }
   ],
   "source": [
    "train['pickup_minute'].unique(),train['pickup_minute'].value_counts()"
   ]
  },
  {
   "cell_type": "code",
   "execution_count": 61,
   "metadata": {},
   "outputs": [
    {
     "data": {
      "text/plain": [
       "(array([ 8, 53, 12, 10, 22, 20, 59, 45,  9, 39, 42, 34, 14, 58, 38, 36, 52,\n",
       "        29,  3, 37, 16, 54, 31, 57, 55, 47,  2, 33, 32, 50, 13, 19, 11,  6,\n",
       "         1, 27, 23, 48, 17,  7, 21, 15, 44,  4, 46, 35, 43, 18, 25, 26, 49,\n",
       "        30,  0, 51, 40,  5, 56, 41, 28, 24], dtype=int64), 0     652\n",
       " 37    565\n",
       " 19    373\n",
       " 54    365\n",
       " 3     307\n",
       " 45    300\n",
       " 33    300\n",
       " 48    293\n",
       " 39    287\n",
       " 1     285\n",
       " 43    280\n",
       " 29    275\n",
       " 57    270\n",
       " 11    264\n",
       " 55    263\n",
       " 47    251\n",
       " 13    247\n",
       " 58    240\n",
       " 36    235\n",
       " 16    188\n",
       " 44    175\n",
       " 6     171\n",
       " 31    142\n",
       " 9     136\n",
       " 52    129\n",
       " 50    116\n",
       " 23    110\n",
       " 5     110\n",
       " 4     109\n",
       " 49    106\n",
       " 28    104\n",
       " 7     103\n",
       " 56    101\n",
       " 32     99\n",
       " 20     98\n",
       " 15     97\n",
       " 38     90\n",
       " 2      87\n",
       " 21     86\n",
       " 18     86\n",
       " 8      82\n",
       " 59     81\n",
       " 42     79\n",
       " 51     78\n",
       " 12     78\n",
       " 14     77\n",
       " 34     77\n",
       " 27     76\n",
       " 24     73\n",
       " 41     73\n",
       " 25     72\n",
       " 53     71\n",
       " 17     69\n",
       " 46     68\n",
       " 10     67\n",
       " 40     64\n",
       " 26     63\n",
       " 30     61\n",
       " 22     58\n",
       " 35     52\n",
       " Name: pickup_minute, dtype: int64)"
      ]
     },
     "execution_count": 61,
     "metadata": {},
     "output_type": "execute_result"
    }
   ],
   "source": [
    "test['pickup_minute'].unique(),test['pickup_minute'].value_counts()"
   ]
  },
  {
   "cell_type": "code",
   "execution_count": 62,
   "metadata": {},
   "outputs": [],
   "source": [
    "#calculating the distance using latitude and longitude.\n",
    "# So we will calculate the distance using haversine formula\n",
    "from math import sin,cos,sqrt,atan2,radians,asin\n",
    "\n",
    "def distance(lon1,lat1,lon2,lat2):\n",
    "    #converting latitude and longitude into radians\n",
    "    lon1,lat1,lon2,lat2=map(np.radians,[lon1,lat1,lon2,lat2])\n",
    "    \n",
    "    dlon=lon2-lon1\n",
    "    dlat=lat2-lat1\n",
    "    \n",
    "    a=np.sin(dlat/2)**2 + np.cos(lat1)*np.cos(lat2)*np.sin(dlon/2)**2\n",
    "    \n",
    "    c=2*np.arcsin(np.sqrt(a))\n",
    "    \n",
    "    km=6367*c\n",
    "    \n",
    "    return km\n",
    "\n",
    "\n",
    "train['journey_distance']=distance(train['pickup_longitude'],train['pickup_latitude'],train['dropoff_longitude'],train['dropoff_latitude'])\n",
    "test['journey_distance']=distance(test['pickup_longitude'],test['pickup_latitude'],test['dropoff_longitude'],test['dropoff_latitude'])"
   ]
  },
  {
   "cell_type": "code",
   "execution_count": 63,
   "metadata": {},
   "outputs": [
    {
     "data": {
      "text/plain": [
       "(5864     5417.585418\n",
       " 7014     4444.294617\n",
       " 10710     129.868894\n",
       " 14536     129.479111\n",
       " 11619     127.429205\n",
       "             ...     \n",
       " 5023        0.000000\n",
       " 1222        0.000000\n",
       " 3945        0.000000\n",
       " 1214        0.000000\n",
       " 1335        0.000000\n",
       " Name: journey_distance, Length: 15580, dtype: float64, 4080    99.933258\n",
       " 8529    98.130769\n",
       " 5887    97.179923\n",
       " 7269    33.583267\n",
       " 4334    28.819072\n",
       "           ...    \n",
       " 8835     0.000000\n",
       " 943      0.000000\n",
       " 2258     0.000000\n",
       " 7637     0.000000\n",
       " 6335     0.000000\n",
       " Name: journey_distance, Length: 9914, dtype: float64)"
      ]
     },
     "execution_count": 63,
     "metadata": {},
     "output_type": "execute_result"
    }
   ],
   "source": [
    "train['journey_distance'].sort_values(ascending=False),test['journey_distance'].sort_values(ascending=False)"
   ]
  },
  {
   "cell_type": "code",
   "execution_count": 64,
   "metadata": {},
   "outputs": [
    {
     "data": {
      "text/plain": [
       "(155, 2)"
      ]
     },
     "execution_count": 64,
     "metadata": {},
     "output_type": "execute_result"
    }
   ],
   "source": [
    "sum(train['journey_distance']==0),sum(train['journey_distance']>130)"
   ]
  },
  {
   "cell_type": "code",
   "execution_count": 65,
   "metadata": {},
   "outputs": [
    {
     "data": {
      "text/plain": [
       "(85, 0)"
      ]
     },
     "execution_count": 65,
     "metadata": {},
     "output_type": "execute_result"
    }
   ],
   "source": [
    "sum(test['journey_distance']==0),sum(test['journey_distance']>130)"
   ]
  },
  {
   "cell_type": "code",
   "execution_count": 66,
   "metadata": {},
   "outputs": [],
   "source": [
    "# Droppping the values of distance which are 0 and greater than 130\n",
    "train=train.drop(train[train['journey_distance']==0].index,axis=0)\n",
    "train=train.drop(train[train['journey_distance']>130].index,axis=0)"
   ]
  },
  {
   "cell_type": "code",
   "execution_count": 67,
   "metadata": {},
   "outputs": [
    {
     "data": {
      "text/plain": [
       "(0, 0)"
      ]
     },
     "execution_count": 67,
     "metadata": {},
     "output_type": "execute_result"
    }
   ],
   "source": [
    "# Checking \n",
    "sum(train['journey_distance']==0),sum(train['journey_distance']>130)"
   ]
  },
  {
   "cell_type": "code",
   "execution_count": 69,
   "metadata": {},
   "outputs": [
    {
     "data": {
      "text/plain": [
       "(0, 0)"
      ]
     },
     "execution_count": 69,
     "metadata": {},
     "output_type": "execute_result"
    }
   ],
   "source": [
    "# Drooping the vakues od distance which are = 0 from test set\n",
    "test=test.drop(test[test['journey_distance']==0].index,axis=0)\n",
    "\n",
    "#checking\n",
    "sum(test['journey_distance']==0),sum(test['journey_distance']>130)"
   ]
  },
  {
   "cell_type": "code",
   "execution_count": 71,
   "metadata": {},
   "outputs": [],
   "source": [
    "#now deleting the features which are not required further\n",
    "train=train.drop(train[['pickup_datetime','pickup_longitude','pickup_latitude','dropoff_latitude','dropoff_longitude','pickup_minute','pickup_second']],axis=1)"
   ]
  },
  {
   "cell_type": "code",
   "execution_count": 72,
   "metadata": {},
   "outputs": [],
   "source": [
    "test=test.drop(test[['pickup_datetime','pickup_longitude','pickup_latitude','dropoff_latitude','dropoff_longitude','pickup_minute','pickup_second']],axis=1)"
   ]
  },
  {
   "cell_type": "code",
   "execution_count": 73,
   "metadata": {},
   "outputs": [
    {
     "data": {
      "text/html": [
       "<div>\n",
       "<style scoped>\n",
       "    .dataframe tbody tr th:only-of-type {\n",
       "        vertical-align: middle;\n",
       "    }\n",
       "\n",
       "    .dataframe tbody tr th {\n",
       "        vertical-align: top;\n",
       "    }\n",
       "\n",
       "    .dataframe thead th {\n",
       "        text-align: right;\n",
       "    }\n",
       "</style>\n",
       "<table border=\"1\" class=\"dataframe\">\n",
       "  <thead>\n",
       "    <tr style=\"text-align: right;\">\n",
       "      <th></th>\n",
       "      <th>fare_amount</th>\n",
       "      <th>passenger_count</th>\n",
       "      <th>pickup_year</th>\n",
       "      <th>pickup_month</th>\n",
       "      <th>pickup_day</th>\n",
       "      <th>pickup_hour</th>\n",
       "      <th>pickup_dayofweek</th>\n",
       "      <th>journey_distance</th>\n",
       "    </tr>\n",
       "  </thead>\n",
       "  <tbody>\n",
       "    <tr>\n",
       "      <th>0</th>\n",
       "      <td>4.5</td>\n",
       "      <td>1.0</td>\n",
       "      <td>2009</td>\n",
       "      <td>6</td>\n",
       "      <td>15</td>\n",
       "      <td>17</td>\n",
       "      <td>0</td>\n",
       "      <td>1.030117</td>\n",
       "    </tr>\n",
       "    <tr>\n",
       "      <th>1</th>\n",
       "      <td>16.9</td>\n",
       "      <td>1.0</td>\n",
       "      <td>2010</td>\n",
       "      <td>1</td>\n",
       "      <td>5</td>\n",
       "      <td>16</td>\n",
       "      <td>1</td>\n",
       "      <td>8.444828</td>\n",
       "    </tr>\n",
       "    <tr>\n",
       "      <th>2</th>\n",
       "      <td>5.7</td>\n",
       "      <td>2.0</td>\n",
       "      <td>2011</td>\n",
       "      <td>8</td>\n",
       "      <td>18</td>\n",
       "      <td>0</td>\n",
       "      <td>3</td>\n",
       "      <td>1.388653</td>\n",
       "    </tr>\n",
       "    <tr>\n",
       "      <th>3</th>\n",
       "      <td>7.7</td>\n",
       "      <td>1.0</td>\n",
       "      <td>2012</td>\n",
       "      <td>4</td>\n",
       "      <td>21</td>\n",
       "      <td>4</td>\n",
       "      <td>5</td>\n",
       "      <td>2.797513</td>\n",
       "    </tr>\n",
       "    <tr>\n",
       "      <th>4</th>\n",
       "      <td>5.3</td>\n",
       "      <td>1.0</td>\n",
       "      <td>2010</td>\n",
       "      <td>3</td>\n",
       "      <td>9</td>\n",
       "      <td>7</td>\n",
       "      <td>1</td>\n",
       "      <td>1.997902</td>\n",
       "    </tr>\n",
       "  </tbody>\n",
       "</table>\n",
       "</div>"
      ],
      "text/plain": [
       "   fare_amount  passenger_count  pickup_year  pickup_month  pickup_day  \\\n",
       "0          4.5              1.0         2009             6          15   \n",
       "1         16.9              1.0         2010             1           5   \n",
       "2          5.7              2.0         2011             8          18   \n",
       "3          7.7              1.0         2012             4          21   \n",
       "4          5.3              1.0         2010             3           9   \n",
       "\n",
       "   pickup_hour  pickup_dayofweek  journey_distance  \n",
       "0           17                 0          1.030117  \n",
       "1           16                 1          8.444828  \n",
       "2            0                 3          1.388653  \n",
       "3            4                 5          2.797513  \n",
       "4            7                 1          1.997902  "
      ]
     },
     "execution_count": 73,
     "metadata": {},
     "output_type": "execute_result"
    }
   ],
   "source": [
    "train.head()"
   ]
  },
  {
   "cell_type": "code",
   "execution_count": 74,
   "metadata": {},
   "outputs": [
    {
     "data": {
      "text/html": [
       "<div>\n",
       "<style scoped>\n",
       "    .dataframe tbody tr th:only-of-type {\n",
       "        vertical-align: middle;\n",
       "    }\n",
       "\n",
       "    .dataframe tbody tr th {\n",
       "        vertical-align: top;\n",
       "    }\n",
       "\n",
       "    .dataframe thead th {\n",
       "        text-align: right;\n",
       "    }\n",
       "</style>\n",
       "<table border=\"1\" class=\"dataframe\">\n",
       "  <thead>\n",
       "    <tr style=\"text-align: right;\">\n",
       "      <th></th>\n",
       "      <th>passenger_count</th>\n",
       "      <th>pickup_year</th>\n",
       "      <th>pickup_month</th>\n",
       "      <th>pickup_day</th>\n",
       "      <th>pickup_hour</th>\n",
       "      <th>pickup_dayofweek</th>\n",
       "      <th>journey_distance</th>\n",
       "    </tr>\n",
       "  </thead>\n",
       "  <tbody>\n",
       "    <tr>\n",
       "      <th>0</th>\n",
       "      <td>1</td>\n",
       "      <td>2015</td>\n",
       "      <td>1</td>\n",
       "      <td>27</td>\n",
       "      <td>13</td>\n",
       "      <td>1</td>\n",
       "      <td>2.321801</td>\n",
       "    </tr>\n",
       "    <tr>\n",
       "      <th>1</th>\n",
       "      <td>1</td>\n",
       "      <td>2015</td>\n",
       "      <td>1</td>\n",
       "      <td>27</td>\n",
       "      <td>13</td>\n",
       "      <td>1</td>\n",
       "      <td>2.423830</td>\n",
       "    </tr>\n",
       "    <tr>\n",
       "      <th>2</th>\n",
       "      <td>1</td>\n",
       "      <td>2011</td>\n",
       "      <td>10</td>\n",
       "      <td>8</td>\n",
       "      <td>11</td>\n",
       "      <td>5</td>\n",
       "      <td>0.618239</td>\n",
       "    </tr>\n",
       "    <tr>\n",
       "      <th>3</th>\n",
       "      <td>1</td>\n",
       "      <td>2012</td>\n",
       "      <td>12</td>\n",
       "      <td>1</td>\n",
       "      <td>21</td>\n",
       "      <td>5</td>\n",
       "      <td>1.959801</td>\n",
       "    </tr>\n",
       "    <tr>\n",
       "      <th>4</th>\n",
       "      <td>1</td>\n",
       "      <td>2012</td>\n",
       "      <td>12</td>\n",
       "      <td>1</td>\n",
       "      <td>21</td>\n",
       "      <td>5</td>\n",
       "      <td>5.383919</td>\n",
       "    </tr>\n",
       "  </tbody>\n",
       "</table>\n",
       "</div>"
      ],
      "text/plain": [
       "   passenger_count  pickup_year  pickup_month  pickup_day  pickup_hour  \\\n",
       "0                1         2015             1          27           13   \n",
       "1                1         2015             1          27           13   \n",
       "2                1         2011            10           8           11   \n",
       "3                1         2012            12           1           21   \n",
       "4                1         2012            12           1           21   \n",
       "\n",
       "   pickup_dayofweek  journey_distance  \n",
       "0                 1          2.321801  \n",
       "1                 1          2.423830  \n",
       "2                 5          0.618239  \n",
       "3                 5          1.959801  \n",
       "4                 5          5.383919  "
      ]
     },
     "execution_count": 74,
     "metadata": {},
     "output_type": "execute_result"
    }
   ],
   "source": [
    "test.head()"
   ]
  },
  {
   "cell_type": "code",
   "execution_count": 75,
   "metadata": {},
   "outputs": [
    {
     "data": {
      "text/plain": [
       "(fare_amount         float64\n",
       " passenger_count     float64\n",
       " pickup_year           int64\n",
       " pickup_month          int64\n",
       " pickup_day            int64\n",
       " pickup_hour           int64\n",
       " pickup_dayofweek      int64\n",
       " journey_distance    float64\n",
       " dtype: object, passenger_count       int64\n",
       " pickup_year           int64\n",
       " pickup_month          int64\n",
       " pickup_day            int64\n",
       " pickup_hour           int64\n",
       " pickup_dayofweek      int64\n",
       " journey_distance    float64\n",
       " dtype: object)"
      ]
     },
     "execution_count": 75,
     "metadata": {},
     "output_type": "execute_result"
    }
   ],
   "source": [
    "train.dtypes,test.dtypes"
   ]
  },
  {
   "cell_type": "code",
   "execution_count": 76,
   "metadata": {},
   "outputs": [],
   "source": [
    "# converting data in data type required\n",
    "train['passenger_count']=train['passenger_count'].astype('int64')"
   ]
  },
  {
   "cell_type": "code",
   "execution_count": 77,
   "metadata": {},
   "outputs": [
    {
     "data": {
      "text/plain": [
       "fare_amount         float64\n",
       "passenger_count       int64\n",
       "pickup_year           int64\n",
       "pickup_month          int64\n",
       "pickup_day            int64\n",
       "pickup_hour           int64\n",
       "pickup_dayofweek      int64\n",
       "journey_distance    float64\n",
       "dtype: object"
      ]
     },
     "execution_count": 77,
     "metadata": {},
     "output_type": "execute_result"
    }
   ],
   "source": [
    "train.dtypes"
   ]
  },
  {
   "cell_type": "markdown",
   "metadata": {},
   "source": [
    "# Data Visualization"
   ]
  },
  {
   "cell_type": "code",
   "execution_count": null,
   "metadata": {},
   "outputs": [],
   "source": []
  }
 ],
 "metadata": {
  "kernelspec": {
   "display_name": "Python 3",
   "language": "python",
   "name": "python3"
  },
  "language_info": {
   "codemirror_mode": {
    "name": "ipython",
    "version": 3
   },
   "file_extension": ".py",
   "mimetype": "text/x-python",
   "name": "python",
   "nbconvert_exporter": "python",
   "pygments_lexer": "ipython3",
   "version": "3.7.4"
  }
 },
 "nbformat": 4,
 "nbformat_minor": 2
}
